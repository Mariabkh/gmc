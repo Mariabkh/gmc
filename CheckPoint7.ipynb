{
 "cells": [
  {
   "cell_type": "code",
   "execution_count": 37,
   "id": "0d0d9ec3",
   "metadata": {},
   "outputs": [
    {
     "name": "stdout",
     "output_type": "stream",
     "text": [
      "What is Python language?                                                \n",
      "Python is a widely used high-level, general-purpose, interpreted, dynamic programming language.Its design philosophy emphasizes code readability, and its syntax allows programmers to express concepts in fewer lines of code than possible in \n",
      "languages such as C++ or Java. \n",
      "Python supports multiple programming paradigms, including object-oriented, imperative and functional programming or procedural styles. It features a dynamic type system and automatic memory management and has a large and comprehensive standard library.The best way we learn anything is by practice and exercise questions. We  have started this section for those (beginner to intermediate) who are familiar with Python.\n"
     ]
    }
   ],
   "source": [
    "my_file = open(\"/Users/mariabenkhalifa/Desktop/python.txt\")\n",
    "a = my_file.read()\n",
    "my_file.close\n",
    "print (a)"
   ]
  },
  {
   "cell_type": "code",
   "execution_count": 38,
   "id": "0d2fda6a",
   "metadata": {},
   "outputs": [
    {
     "name": "stdout",
     "output_type": "stream",
     "text": [
      "['What is Python language?                                                \\n']\n"
     ]
    }
   ],
   "source": [
    "my_file = open(\"/Users/mariabenkhalifa/Desktop/python.txt\")\n",
    "a = my_file.readlines(2)\n",
    "my_file.close\n",
    "print (a)"
   ]
  },
  {
   "cell_type": "code",
   "execution_count": 59,
   "id": "a5113362",
   "metadata": {},
   "outputs": [
    {
     "name": "stdout",
     "output_type": "stream",
     "text": [
      "['Python supports multiple programming paradigms, including object-oriented, imperative and functional programming or procedural styles. It features a dynamic type system and automatic memory management and has a large and comprehensive standard library.The best way we learn anything is by practice and exercise questions. We  have started this section for those (beginner to intermediate) who are familiar with Python.']\n"
     ]
    }
   ],
   "source": [
    "my_file = open(\"/Users/mariabenkhalifa/Desktop/python.txt\")\n",
    "lines = my_file.readlines()\n",
    "last_lines = lines[-1:]\n",
    "print (last_lines)"
   ]
  },
  {
   "cell_type": "code",
   "execution_count": 57,
   "id": "53a13a80",
   "metadata": {},
   "outputs": [
    {
     "name": "stdout",
     "output_type": "stream",
     "text": [
      "Number of words in text file : 100\n"
     ]
    }
   ],
   "source": [
    "my_file = open(\"/Users/mariabenkhalifa/Desktop/python.txt\",\"rt\")\n",
    "word=my_file.read()\n",
    "words = word.split()\n",
    "print('Number of words in text file :', len(words))"
   ]
  },
  {
   "cell_type": "code",
   "execution_count": null,
   "id": "0c18aa17",
   "metadata": {},
   "outputs": [],
   "source": []
  }
 ],
 "metadata": {
  "kernelspec": {
   "display_name": "Python 3",
   "language": "python",
   "name": "python3"
  },
  "language_info": {
   "codemirror_mode": {
    "name": "ipython",
    "version": 3
   },
   "file_extension": ".py",
   "mimetype": "text/x-python",
   "name": "python",
   "nbconvert_exporter": "python",
   "pygments_lexer": "ipython3",
   "version": "3.8.8"
  }
 },
 "nbformat": 4,
 "nbformat_minor": 5
}
