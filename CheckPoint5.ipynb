{
 "cells": [
  {
   "cell_type": "code",
   "execution_count": 3,
   "id": "f287e074",
   "metadata": {},
   "outputs": [
    {
     "name": "stdout",
     "output_type": "stream",
     "text": [
      "[[3, 1], [1, 2]]\n"
     ]
    }
   ],
   "source": [
    "import numpy as np \n",
    "v= np.random.randint(1,4,size=(2,2))\n",
    "s=v.tolist()\n",
    "print (s)"
   ]
  },
  {
   "cell_type": "code",
   "execution_count": 4,
   "id": "2902db58",
   "metadata": {},
   "outputs": [
    {
     "data": {
      "text/plain": [
       "3"
      ]
     },
     "execution_count": 4,
     "metadata": {},
     "output_type": "execute_result"
    }
   ],
   "source": [
    "v = np.random.randint(1,4,size=(2,2))\n",
    "np.trace(v)"
   ]
  },
  {
   "cell_type": "code",
   "execution_count": 5,
   "id": "09b9a226",
   "metadata": {},
   "outputs": [
    {
     "name": "stdout",
     "output_type": "stream",
     "text": [
      "1\n",
      "[[3 2]\n",
      " [1 2]]\n",
      "---\n",
      "[3, 2, 2]\n"
     ]
    }
   ],
   "source": [
    "import numpy as np\n",
    "v = np.random.randint(1,4,size=(2,2))\n",
    "x = int(input())\n",
    "result = []\n",
    "for i in v:\n",
    "  for j in i:\n",
    "    if j>x:\n",
    "      result.append(j)\n",
    "print (v)\n",
    "print (\"---\")\n",
    "print (result)\n"
   ]
  },
  {
   "cell_type": "code",
   "execution_count": 8,
   "id": "39084cf9",
   "metadata": {},
   "outputs": [
    {
     "name": "stdout",
     "output_type": "stream",
     "text": [
      "[[5 5 3]\n",
      " [7 8 3]\n",
      " [5 3 7]]\n",
      "_ _ _ _ _ _\n",
      "_ _ _ _ _ _\n",
      "[[8 5 3]\n",
      " [2 1 5]\n",
      " [6 5 3]]\n",
      "_ _ _ _ _ _\n",
      "_ _ _ _ _ _\n",
      "[[13. 10.  6.]\n",
      " [ 9.  9.  8.]\n",
      " [11.  8. 10.]]\n"
     ]
    }
   ],
   "source": [
    "arr1 = np.random.randint(1,9,size=(3,3))\n",
    "arr2 = np.random.randint(1,9,size=(3,3))\n",
    "arr3 = np.zeros((3,3))\n",
    "arr_sh= arr1.shape\n",
    "for i in range(arr_sh[0]):\n",
    "  for j in range(arr_sh[1]):\n",
    "    arr3[i,j]=arr1[i,j]+arr2[i,j]\n",
    "print(arr1)\n",
    "print(\"_ _ _ _ _ _\")\n",
    "print(\"_ _ _ _ _ _\")\n",
    "print(arr2)\n",
    "print(\"_ _ _ _ _ _\")\n",
    "print(\"_ _ _ _ _ _\")\n",
    "print(arr3)"
   ]
  },
  {
   "cell_type": "code",
   "execution_count": 12,
   "id": "aff5f977",
   "metadata": {},
   "outputs": [
    {
     "name": "stdout",
     "output_type": "stream",
     "text": [
      "[[5 6 6]\n",
      " [2 5 2]\n",
      " [3 3 7]]\n",
      "_ _ _ _ _ _\n",
      "_ _ _ _ _ _\n",
      "\n",
      "[[ 1.66666667  2.66666667  2.66666667]\n",
      " [-2.66666667  0.33333333 -2.66666667]\n",
      " [-2.         -2.          2.        ]]\n"
     ]
    }
   ],
   "source": [
    "import numpy as np\n",
    "my_arr= np.random.randint(1,9,size=(3,3))\n",
    "row_mean=np.mean(my_arr, axis=0)\n",
    "arr_sh= my_arr.shape\n",
    "new_arr=np.zeros((3,3))\n",
    "for i in range(arr_sh[0]):\n",
    "  for j in range(arr_sh[1]):\n",
    "    new_arr[i,j]= my_arr[i,j]-row_mean[i]\n",
    "    \n",
    "print (my_arr)\n",
    "print(\"_ _ _ _ _ _\")\n",
    "print(\"_ _ _ _ _ _\")\n",
    "print(\"\")\n",
    "print (new_arr)\n",
    "\n",
    "\n",
    "\n"
   ]
  },
  {
   "cell_type": "code",
   "execution_count": null,
   "id": "1cb0b271",
   "metadata": {},
   "outputs": [],
   "source": []
  }
 ],
 "metadata": {
  "kernelspec": {
   "display_name": "Python 3",
   "language": "python",
   "name": "python3"
  },
  "language_info": {
   "codemirror_mode": {
    "name": "ipython",
    "version": 3
   },
   "file_extension": ".py",
   "mimetype": "text/x-python",
   "name": "python",
   "nbconvert_exporter": "python",
   "pygments_lexer": "ipython3",
   "version": "3.8.8"
  }
 },
 "nbformat": 4,
 "nbformat_minor": 5
}
