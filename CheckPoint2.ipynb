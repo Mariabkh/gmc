{
 "cells": [
  {
   "cell_type": "code",
   "execution_count": 1,
   "id": "6cacf665",
   "metadata": {},
   "outputs": [
    {
     "name": "stdout",
     "output_type": "stream",
     "text": [
      "36\n"
     ]
    }
   ],
   "source": [
    "li = [2,3,6]\n",
    "r = 1\n",
    "for i in li:\n",
    "  r = r*i\n",
    "print (r)"
   ]
  },
  {
   "cell_type": "code",
   "execution_count": 5,
   "id": "7e4e124b",
   "metadata": {},
   "outputs": [
    {
     "name": "stdout",
     "output_type": "stream",
     "text": [
      "[(2, 1), (1, 2), (2, 3), (4, 4), (2, 5)]\n"
     ]
    }
   ],
   "source": [
    "tup = [(2,5),(1,2),(4,4),(2,3),(2,1)]\n",
    "def sort_li(tup):\n",
    "    tup.sort (key= lambda x:x[1])\n",
    "    return tup\n",
    "print (sort_li(tup))"
   ]
  },
  {
   "cell_type": "code",
   "execution_count": 15,
   "id": "0ff3fcc0",
   "metadata": {},
   "outputs": [
    {
     "data": {
      "text/plain": [
       "{'a': 400, 'b': 400, 'd': 400, 'c': 300}"
      ]
     },
     "execution_count": 15,
     "metadata": {},
     "output_type": "execute_result"
    }
   ],
   "source": [
    "d1 = {'a': 100, 'b': 200, 'c':300}\n",
    "d2 = {'a': 300, 'b': 200, 'd':400}\n",
    "d3= {}\n",
    "key1= d1.keys()\n",
    "key2= d2.keys()\n",
    "for i in (key2):\n",
    "  if i in (key1):\n",
    "    d3[i]=d1[i]+d2[i]\n",
    "  else :\n",
    "    d3[i]= d2[i]\n",
    "for i in key1:\n",
    "  if i not in key2:\n",
    "    d3[i]= d1[i]\n",
    "\n",
    "d3    "
   ]
  },
  {
   "cell_type": "code",
   "execution_count": 13,
   "id": "5de1f26a",
   "metadata": {},
   "outputs": [
    {
     "name": "stdout",
     "output_type": "stream",
     "text": [
      "8\n",
      "{1: 1, 2: 4, 3: 9, 4: 16, 5: 25, 6: 36, 7: 49, 8: 64}\n"
     ]
    }
   ],
   "source": [
    "n = int (input())\n",
    "ffrr ={}\n",
    "for i in range(1, n+1):\n",
    "  ffrr [i] = i*i \n",
    "print (ffrr)"
   ]
  },
  {
   "cell_type": "code",
   "execution_count": 14,
   "id": "05ff905e",
   "metadata": {},
   "outputs": [
    {
     "name": "stdout",
     "output_type": "stream",
     "text": [
      "[('item3', '24.5'), ('item2', '15.10'), ('item1', '12.20')]\n"
     ]
    }
   ],
   "source": [
    "example = [('item1', '12.20'), ('item2', '15.10'), ('item3', '24.5')]\n",
    "def ordered (example):\n",
    "  example.sort (key= lambda x: float(x[1]), reverse= True)\n",
    "  return example\n",
    "print (ordered(example))"
   ]
  }
 ],
 "metadata": {
  "kernelspec": {
   "display_name": "Python 3",
   "language": "python",
   "name": "python3"
  },
  "language_info": {
   "codemirror_mode": {
    "name": "ipython",
    "version": 3
   },
   "file_extension": ".py",
   "mimetype": "text/x-python",
   "name": "python",
   "nbconvert_exporter": "python",
   "pygments_lexer": "ipython3",
   "version": "3.8.8"
  }
 },
 "nbformat": 4,
 "nbformat_minor": 5
}
