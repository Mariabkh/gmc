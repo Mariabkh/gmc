{
 "cells": [
  {
   "cell_type": "code",
   "execution_count": 1,
   "id": "6024e251",
   "metadata": {},
   "outputs": [
    {
     "name": "stdout",
     "output_type": "stream",
     "text": [
      "20\n",
      "35\n",
      "19\n"
     ]
    },
    {
     "data": {
      "text/plain": [
       "35"
      ]
     },
     "execution_count": 1,
     "metadata": {},
     "output_type": "execute_result"
    }
   ],
   "source": [
    "def maximim(x,y,z):\n",
    "  if x>y:\n",
    "    max= x\n",
    "  else:\n",
    "    max= y\n",
    "\n",
    "  if max>z:\n",
    "    result = max\n",
    "  else:\n",
    "    result = z\n",
    "\n",
    "  return (result)\n",
    " \n",
    "x = int(input())\n",
    "y = int(input())\n",
    "z = int(input())\n",
    "\n",
    "maximim (x,y,z)"
   ]
  },
  {
   "cell_type": "code",
   "execution_count": 4,
   "id": "db93cbd8",
   "metadata": {},
   "outputs": [
    {
     "name": "stdout",
     "output_type": "stream",
     "text": [
      "40\n",
      "10\n"
     ]
    },
    {
     "data": {
      "text/plain": [
       "(50, 30)"
      ]
     },
     "execution_count": 4,
     "metadata": {},
     "output_type": "execute_result"
    }
   ],
   "source": [
    "def calculation (x,y):\n",
    "  add = x+y\n",
    "  sub = x-y\n",
    "  return add, sub\n",
    " \n",
    "x = int(input())\n",
    "y = int(input())\n",
    "\n",
    "calculation (x,y)"
   ]
  },
  {
   "cell_type": "code",
   "execution_count": 5,
   "id": "4537199e",
   "metadata": {},
   "outputs": [
    {
     "name": "stdout",
     "output_type": "stream",
     "text": [
      "20\n",
      "945\n"
     ]
    }
   ],
   "source": [
    "def sum (my_list):\n",
    "  s=0\n",
    "  for i in my_list:\n",
    "    s=s+i\n",
    "  return s \n",
    "\n",
    "\n",
    "def multiply (my_list):\n",
    "  m=1\n",
    "  for i in my_list:\n",
    "    m=m*i\n",
    "  return m\n",
    "\n",
    "even =[]\n",
    "odd =[]\n",
    "my_list =[1,2,3,4,5,6,7,8,9]\n",
    "\n",
    "for i in my_list:\n",
    "  if i % 2 == 0:\n",
    "    even.append(i)\n",
    "  else:\n",
    "    odd.append(i)\n",
    "\n",
    "sum_of_even= sum(even)\n",
    "multiply_odd = multiply(odd)\n",
    "\n",
    "print (sum_of_even)\n",
    "print (multiply_odd)"
   ]
  },
  {
   "cell_type": "code",
   "execution_count": 6,
   "id": "c35ebbb3",
   "metadata": {},
   "outputs": [
    {
     "name": "stdout",
     "output_type": "stream",
     "text": [
      "black-green-red-white-yellow\n"
     ]
    }
   ],
   "source": [
    "sample = \"green-red-yellow-black-white\"\n",
    "\n",
    "s = sample.split(\"-\")\n",
    "order = sorted(s)\n",
    "\n",
    "R = \"-\".join(order)\n",
    "\n",
    "print (R)"
   ]
  },
  {
   "cell_type": "code",
   "execution_count": null,
   "id": "8f6a73e7",
   "metadata": {},
   "outputs": [],
   "source": []
  }
 ],
 "metadata": {
  "kernelspec": {
   "display_name": "Python 3",
   "language": "python",
   "name": "python3"
  },
  "language_info": {
   "codemirror_mode": {
    "name": "ipython",
    "version": 3
   },
   "file_extension": ".py",
   "mimetype": "text/x-python",
   "name": "python",
   "nbconvert_exporter": "python",
   "pygments_lexer": "ipython3",
   "version": "3.8.8"
  }
 },
 "nbformat": 4,
 "nbformat_minor": 5
}
