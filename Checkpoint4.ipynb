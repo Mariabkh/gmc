{
 "cells": [
  {
   "cell_type": "code",
   "execution_count": 14,
   "id": "86d34eaa",
   "metadata": {},
   "outputs": [
    {
     "name": "stdout",
     "output_type": "stream",
     "text": [
      "(1, 2, 3)\n"
     ]
    }
   ],
   "source": [
    "class Point3D():\n",
    "    def __init__ (self, x, y, z):\n",
    "        self.x = x\n",
    "        self.y = y\n",
    "        self.z = z \n",
    "    def __repr__ (self):\n",
    "        return \"(%d, %d, %d)\" % (self.x, self.y, self.z)\n",
    "    \n",
    "my_point = Point3D(1,2,3)\n",
    "print (my_point)"
   ]
  },
  {
   "cell_type": "code",
   "execution_count": 17,
   "id": "983e3943",
   "metadata": {},
   "outputs": [
    {
     "name": "stdout",
     "output_type": "stream",
     "text": [
      "12\n",
      "14\n"
     ]
    }
   ],
   "source": [
    "class Rectangle:\n",
    "    def __init__ (self,length,width): \n",
    "        self.length = length\n",
    "        self.width = width\n",
    "  \n",
    "    def area(self):\n",
    "        return (self.length * self.width)\n",
    "  \n",
    "    def perimeter (self):\n",
    "        return (self.length + self.width)*2\n",
    "\n",
    "My_rectangle= Rectangle(4,3)\n",
    "\n",
    "print(My_rectangle.area())\n",
    "print(My_rectangle.perimeter())\n"
   ]
  },
  {
   "cell_type": "code",
   "execution_count": 18,
   "id": "4301cb30",
   "metadata": {},
   "outputs": [
    {
     "name": "stdout",
     "output_type": "stream",
     "text": [
      "2\n",
      "5\n",
      "78.53981633974483\n",
      "31.41592653589793\n"
     ]
    }
   ],
   "source": [
    "import math\n",
    "\n",
    "class circle:\n",
    "    def __init__ (self, center, radius):\n",
    "        self.center = center\n",
    "        self.radius = radius\n",
    "    \n",
    "    def c_area (self):  \n",
    "        return (self.radius ** 2 * math.pi)\n",
    "\n",
    "    def c_perimeter (self):\n",
    "        return (self.radius * 2 * math.pi)\n",
    "    \n",
    "\n",
    "\n",
    "donut = circle(int(input()),int(input()))\n",
    "\n",
    "print(donut.c_area())\n",
    "print(donut.c_perimeter())\n",
    "\n"
   ]
  },
  {
   "cell_type": "code",
   "execution_count": 3,
   "id": "9acd8d10",
   "metadata": {},
   "outputs": [
    {
     "name": "stdout",
     "output_type": "stream",
     "text": [
      "0\n",
      "0\n",
      "3\n",
      "28.274333882308138\n",
      "18.84955592153876\n",
      "Is inside circle\n"
     ]
    }
   ],
   "source": [
    "import math \n",
    "\n",
    "class circle:\n",
    "  def __init__ (self, xo,yo, radius):\n",
    "    self.xo=xo\n",
    "    self.yo=yo\n",
    "    self.radius= radius\n",
    "  \n",
    "  def c_area (self):\n",
    "    return (self.radius ** 2 * math.pi)\n",
    "  \n",
    "  def c_perimeter (self):\n",
    "    return (self.radius * 2 * math.pi)\n",
    "  \n",
    "  def isinside (self, xi, yi):\n",
    "    d= math.sqrt((xi-self.xo)**2 + (yi-self.yo)**2)\n",
    "    if d <= self.radius:\n",
    "      return \"Is inside circle\"\n",
    "    else:\n",
    "      return \"Is not inside circle\"\n",
    "\n",
    "donut = circle(int(input()),int(input()),int(input()))\n",
    "\n",
    "print(donut.c_area())\n",
    "print(donut.c_perimeter())\n",
    "print(donut.isinside(0,0))"
   ]
  },
  {
   "cell_type": "code",
   "execution_count": 4,
   "id": "7eb41543",
   "metadata": {},
   "outputs": [
    {
     "name": "stdout",
     "output_type": "stream",
     "text": [
      "deposit amount100\n",
      "withdraw amount50\n"
     ]
    },
    {
     "data": {
      "text/plain": [
       "('Transaction complete. Remaining balance is ', 50)"
      ]
     },
     "execution_count": 4,
     "metadata": {},
     "output_type": "execute_result"
    }
   ],
   "source": [
    "class Bank:\n",
    "  def __init__ (self):\n",
    "    self.b = 0\n",
    "    \n",
    "  def deposit (self):\n",
    "    dep = int(input(\"deposit amount\"))\n",
    "    self.b = self.b + dep\n",
    "    return self.b\n",
    "\n",
    "  def withdraw (self):\n",
    "    wd = int(input(\"withdraw amount\"))\n",
    "    if wd <= self.b:\n",
    "      self.b = self.b - wd\n",
    "      return \"Transaction complete. Remaining balance is \", self.b\n",
    "    else:\n",
    "      return \"Error. Available balance is \", self.b \n",
    "    \n",
    "tr = Bank()\n",
    "\n",
    "tr.deposit()\n",
    "tr.withdraw()\n"
   ]
  },
  {
   "cell_type": "code",
   "execution_count": null,
   "id": "c29b6cf8",
   "metadata": {},
   "outputs": [],
   "source": []
  }
 ],
 "metadata": {
  "kernelspec": {
   "display_name": "Python 3",
   "language": "python",
   "name": "python3"
  },
  "language_info": {
   "codemirror_mode": {
    "name": "ipython",
    "version": 3
   },
   "file_extension": ".py",
   "mimetype": "text/x-python",
   "name": "python",
   "nbconvert_exporter": "python",
   "pygments_lexer": "ipython3",
   "version": "3.8.8"
  }
 },
 "nbformat": 4,
 "nbformat_minor": 5
}
